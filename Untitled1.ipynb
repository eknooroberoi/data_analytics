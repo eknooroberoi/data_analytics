{
 "cells": [
  {
   "cell_type": "code",
   "execution_count": 1,
   "metadata": {},
   "outputs": [],
   "source": [
    "import pandas as pd      # for reading and writing files\n",
    "import seaborn as sns   # for graphical representations and plotting\n",
    "import matplotlib.pyplot as plt    # plotting\n",
    "import numpy as np                # numerical calculation\n"
   ]
  },
  {
   "cell_type": "code",
   "execution_count": 8,
   "metadata": {},
   "outputs": [],
   "source": [
    "iris_data = pd.read_csv(\"iris.csv\")\n"
   ]
  },
  {
   "cell_type": "code",
   "execution_count": 9,
   "metadata": {},
   "outputs": [
    {
     "name": "stdout",
     "output_type": "stream",
     "text": [
      "     sepal.length  sepal.width  petal.length  petal.width    species\n",
      "0             5.1          3.5           1.4          0.2     Setosa\n",
      "1             4.9          3.0           1.4          0.2     Setosa\n",
      "2             4.7          3.2           1.3          0.2     Setosa\n",
      "3             4.6          3.1           1.5          0.2     Setosa\n",
      "4             5.0          3.6           1.4          0.2     Setosa\n",
      "5             5.4          3.9           1.7          0.4     Setosa\n",
      "6             4.6          3.4           1.4          0.3     Setosa\n",
      "7             5.0          3.4           1.5          0.2     Setosa\n",
      "8             4.4          2.9           1.4          0.2     Setosa\n",
      "9             4.9          3.1           1.5          0.1     Setosa\n",
      "10            5.4          3.7           1.5          0.2     Setosa\n",
      "11            4.8          3.4           1.6          0.2     Setosa\n",
      "12            4.8          NaN           1.4          0.1     Setosa\n",
      "13            4.3          3.0           1.1          0.1     Setosa\n",
      "14            5.8          4.0           1.2          0.2     Setosa\n",
      "15            5.7          4.4           1.5          0.4     Setosa\n",
      "16            5.4          3.9           1.3          0.4     Setosa\n",
      "17            5.1          3.5           NaN          0.3     Setosa\n",
      "18            5.7          3.8           1.7          0.3     Setosa\n",
      "19            5.1          3.8           1.5          0.3     Setosa\n",
      "20            5.4          3.4           1.7          0.2     Setosa\n",
      "21            NaN          3.7           NaN          0.4     Setosa\n",
      "22            4.6          3.6           1.0          0.2     Setosa\n",
      "23            5.1          3.3           1.7          0.5     Setosa\n",
      "24            4.8          3.4           1.9          0.2     Setosa\n",
      "25            5.0          3.0           1.6          0.2     Setosa\n",
      "26            5.0          3.4           1.6          0.4     Setosa\n",
      "27            5.2          3.5           1.5          0.2     Setosa\n",
      "28            5.2          3.4           1.4          0.2     Setosa\n",
      "29            4.7          3.2           1.6          NaN     Setosa\n",
      "..            ...          ...           ...          ...        ...\n",
      "120           6.9          3.2           5.7          2.3  Virginica\n",
      "121           5.6          2.8           4.9          2.0  Virginica\n",
      "122           7.7          2.8           6.7          2.0  Virginica\n",
      "123           6.3          2.7           4.9          1.8  Virginica\n",
      "124           6.7          3.3           5.7          2.1  Virginica\n",
      "125           7.2          3.2           6.0          1.8  Virginica\n",
      "126           6.2          2.8           4.8          1.8  Virginica\n",
      "127           6.1          3.0           4.9          1.8  Virginica\n",
      "128           6.4          2.8           5.6          2.1  Virginica\n",
      "129           7.2          3.0           5.8          1.6  Virginica\n",
      "130           7.4          2.8           6.1          1.9  Virginica\n",
      "131           7.9          3.8           6.4          2.0  Virginica\n",
      "132           6.4          2.8           5.6          2.2  Virginica\n",
      "133           6.3          2.8           5.1          1.5  Virginica\n",
      "134           6.1          2.6           5.6          1.4  Virginica\n",
      "135           7.7          3.0           6.1          2.3  Virginica\n",
      "136           6.3          3.4           5.6          2.4  Virginica\n",
      "137           6.4          3.1           5.5          1.8  Virginica\n",
      "138           6.0          3.0           4.8          1.8  Virginica\n",
      "139           6.9          3.1           5.4          2.1  Virginica\n",
      "140           6.7          3.1           5.6          2.4  Virginica\n",
      "141           6.9          3.1           5.1          2.3  Virginica\n",
      "142           5.8          2.7           5.1          1.9  Virginica\n",
      "143           6.8          3.2           5.9          2.3  Virginica\n",
      "144           6.7          3.3           5.7          2.5  Virginica\n",
      "145           6.7          3.0           5.2          2.3  Virginica\n",
      "146           6.3          2.5           5.0          1.9  Virginica\n",
      "147           6.5          3.0           5.2          2.0  Virginica\n",
      "148           6.2          3.4           5.4          2.3  Virginica\n",
      "149           5.9          3.0           5.1          1.8  Virginica\n",
      "\n",
      "[150 rows x 5 columns]\n"
     ]
    }
   ],
   "source": [
    "print(iris_data)"
   ]
  },
  {
   "cell_type": "code",
   "execution_count": 10,
   "metadata": {},
   "outputs": [
    {
     "name": "stdout",
     "output_type": "stream",
     "text": [
      "   sepal.length  sepal.width  petal.length  petal.width species\n",
      "0           5.1          3.5           1.4          0.2  Setosa\n",
      "1           4.9          3.0           1.4          0.2  Setosa\n",
      "2           4.7          3.2           1.3          0.2  Setosa\n",
      "3           4.6          3.1           1.5          0.2  Setosa\n",
      "4           5.0          3.6           1.4          0.2  Setosa\n",
      "     sepal.length  sepal.width  petal.length  petal.width    species\n",
      "145           6.7          3.0           5.2          2.3  Virginica\n",
      "146           6.3          2.5           5.0          1.9  Virginica\n",
      "147           6.5          3.0           5.2          2.0  Virginica\n",
      "148           6.2          3.4           5.4          2.3  Virginica\n",
      "149           5.9          3.0           5.1          1.8  Virginica\n"
     ]
    }
   ],
   "source": [
    "print(iris_data[0:5])\n",
    "print(iris_data[-5:])"
   ]
  },
  {
   "cell_type": "code",
   "execution_count": 16,
   "metadata": {},
   "outputs": [
    {
     "name": "stdout",
     "output_type": "stream",
     "text": [
      "[1, 2, 'NAN', 4, 5]\n",
      "[1, 2, 0, 4, 5]\n"
     ]
    }
   ],
   "source": [
    "l = [1, 2, \"NAN\", 4, 5]\n",
    "print(l)\n",
    "\n",
    "for i in range(len(l)):\n",
    "    if not str(l[i]).isdigit():\n",
    "        l[i] = 0\n",
    "print(l)\n",
    "\n"
   ]
  },
  {
   "cell_type": "code",
   "execution_count": 34,
   "metadata": {},
   "outputs": [
    {
     "name": "stdout",
     "output_type": "stream",
     "text": [
      "5\n"
     ]
    },
    {
     "name": "stderr",
     "output_type": "stream",
     "text": [
      "C:\\Users\\Admin\\Anaconda3\\lib\\site-packages\\ipykernel_launcher.py:9: SettingWithCopyWarning: \n",
      "A value is trying to be set on a copy of a slice from a DataFrame\n",
      "\n",
      "See the caveats in the documentation: http://pandas.pydata.org/pandas-docs/stable/indexing.html#indexing-view-versus-copy\n",
      "  if __name__ == '__main__':\n"
     ]
    },
    {
     "name": "stdout",
     "output_type": "stream",
     "text": [
      "     sepal.length  sepal.width  petal.length  petal.width    species\n",
      "0             5.1          3.5           1.4          0.2     Setosa\n",
      "1             4.9          3.0           1.4          0.2     Setosa\n",
      "2             4.7          3.2           1.3          0.2     Setosa\n",
      "3             4.6          3.1           1.5          0.2     Setosa\n",
      "4             5.0          3.6           1.4          0.2     Setosa\n",
      "5             5.4          3.9           1.7          0.4     Setosa\n",
      "6             4.6          3.4           1.4          0.3     Setosa\n",
      "7             5.0          3.4           1.5          0.2     Setosa\n",
      "8             4.4          2.9           1.4          0.2     Setosa\n",
      "9             4.9          3.1           1.5          0.1     Setosa\n",
      "10            5.4          3.7           1.5          0.2     Setosa\n",
      "11            4.8          3.4           1.6          0.2     Setosa\n",
      "12            4.8          NaN           1.4          0.1     Setosa\n",
      "13            4.3          3.0           1.1          0.1     Setosa\n",
      "14            5.8          4.0           1.2          0.2     Setosa\n",
      "15            5.7          4.4           1.5          0.4     Setosa\n",
      "16            5.4          3.9           1.3          0.4     Setosa\n",
      "17            5.1          3.5           NaN          0.3     Setosa\n",
      "18            5.7          3.8           1.7          0.3     Setosa\n",
      "19            5.1          3.8           1.5          0.3     Setosa\n",
      "20            5.4          3.4           1.7          0.2     Setosa\n",
      "21            NaN          3.7           NaN          0.4     Setosa\n",
      "22            4.6          3.6           1.0          0.2     Setosa\n",
      "23            5.1          3.3           1.7          0.5     Setosa\n",
      "24            4.8          3.4           1.9          0.2     Setosa\n",
      "25            5.0          3.0           1.6          0.2     Setosa\n",
      "26            5.0          3.4           1.6          0.4     Setosa\n",
      "27            5.2          3.5           1.5          0.2     Setosa\n",
      "28            5.2          3.4           1.4          0.2     Setosa\n",
      "29            4.7          3.2           1.6          NaN     Setosa\n",
      "..            ...          ...           ...          ...        ...\n",
      "120           6.9          3.2           5.7          2.3  Virginica\n",
      "121           5.6          2.8           4.9          2.0  Virginica\n",
      "122           7.7          2.8           6.7          2.0  Virginica\n",
      "123           6.3          2.7           4.9          1.8  Virginica\n",
      "124           6.7          3.3           5.7          2.1  Virginica\n",
      "125           7.2          3.2           6.0          1.8  Virginica\n",
      "126           6.2          2.8           4.8          1.8  Virginica\n",
      "127           6.1          3.0           4.9          1.8  Virginica\n",
      "128           6.4          2.8           5.6          2.1  Virginica\n",
      "129           7.2          3.0           5.8          1.6  Virginica\n",
      "130           7.4          2.8           6.1          1.9  Virginica\n",
      "131           7.9          3.8           6.4          2.0  Virginica\n",
      "132           6.4          2.8           5.6          2.2  Virginica\n",
      "133           6.3          2.8           5.1          1.5  Virginica\n",
      "134           6.1          2.6           5.6          1.4  Virginica\n",
      "135           7.7          3.0           6.1          2.3  Virginica\n",
      "136           6.3          3.4           5.6          2.4  Virginica\n",
      "137           6.4          3.1           5.5          1.8  Virginica\n",
      "138           6.0          3.0           4.8          1.8  Virginica\n",
      "139           6.9          3.1           5.4          2.1  Virginica\n",
      "140           6.7          3.1           5.6          2.4  Virginica\n",
      "141           6.9          3.1           5.1          2.3  Virginica\n",
      "142           5.8          2.7           5.1          1.9  Virginica\n",
      "143           6.8          3.2           5.9          2.3  Virginica\n",
      "144           6.7          3.3           5.7          2.5  Virginica\n",
      "145           6.7          3.0           5.2          2.3  Virginica\n",
      "146           6.3          2.5           5.0          1.9  Virginica\n",
      "147           6.5          3.0           5.2          2.0  Virginica\n",
      "148           6.2          3.4           5.4          2.3  Virginica\n",
      "149           5.9          3.0           5.1          1.8  Virginica\n",
      "\n",
      "[150 rows x 5 columns]\n"
     ]
    }
   ],
   "source": [
    "n = len(iris_data)\n",
    "l2 = [\"sepal.length\",\"sepal.width\",\"petal.length\",\"petal.width\"]\n",
    "# print(iris_data.iloc[0][\"sepal.length\"])\n",
    "print(len(iris_data.iloc[0]))\n",
    "\n",
    "for i in range(n):\n",
    "    for j in range(len(iris_data.iloc[i])-1):\n",
    "        if not str(iris_data.iloc[i][l2[j]]).isdigit():\n",
    "              iris_data.iloc[i][l2[j]] = 0\n",
    "#         print(iris_data.iloc[i][l2[j]])\n",
    "\n",
    "print(iris_data)"
   ]
  },
  {
   "cell_type": "code",
   "execution_count": null,
   "metadata": {},
   "outputs": [],
   "source": []
  },
  {
   "cell_type": "code",
   "execution_count": null,
   "metadata": {},
   "outputs": [],
   "source": []
  },
  {
   "cell_type": "code",
   "execution_count": null,
   "metadata": {},
   "outputs": [],
   "source": []
  }
 ],
 "metadata": {
  "kernelspec": {
   "display_name": "Python 3",
   "language": "python",
   "name": "python3"
  },
  "language_info": {
   "codemirror_mode": {
    "name": "ipython",
    "version": 3
   },
   "file_extension": ".py",
   "mimetype": "text/x-python",
   "name": "python",
   "nbconvert_exporter": "python",
   "pygments_lexer": "ipython3",
   "version": "3.7.3"
  }
 },
 "nbformat": 4,
 "nbformat_minor": 2
}
